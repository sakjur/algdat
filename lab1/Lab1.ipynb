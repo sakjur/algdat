{
 "metadata": {
  "name": "Lab1"
 },
 "nbformat": 3,
 "nbformat_minor": 0,
 "worksheets": [
  {
   "cells": [
    {
     "cell_type": "code",
     "collapsed": false,
     "input": [
      "from scipy.interpolate import interp1d\n",
      "import matplotlib.pyplot as plt\n",
      "import numpy as np\n",
      "\n",
      "line = interp1d(x, y)\n",
      "\n",
      "x = [64, 128, 256, 512, 1024, 2048, 4096, 8192, 16384, 32768, 65536]\n",
      "y = [0.000, 0.000, 0.001, 0.009, 0.060, 0.415, 2.601, 17.101, 110.921, 712.105, 4630.283]\n",
      "\n",
      "plt.ylabel('T(N)')\n",
      "plt.xlabel('N')\n",
      "\n",
      "plt.plot(x, y, 'bo', x, line(x), '--')\n",
      "plt.show()"
     ],
     "language": "python",
     "metadata": {},
     "outputs": [],
     "prompt_number": 67
    },
    {
     "cell_type": "code",
     "collapsed": false,
     "input": [
      "from scipy.interpolate import interp1d\n",
      "import matplotlib.pyplot as plt\n",
      "import math\n",
      "\n",
      "line = interp1d(x, y)\n",
      "\n",
      "x = [64, 128, 256, 512, 1024, 2048, 4096, 8192, 16384, 32768, 65536]\n",
      "y = [0.0001, 0.0001, 0.001, 0.009, 0.060, 0.415, 2.601, 17.101, 110.921, 712.105, 4630.283]\n",
      "\n",
      "nx = list(map(lambda a: math.log(a), x))\n",
      "ny = list(map(lambda a: math.log(a), y))\n",
      "\n",
      "plt.plot(nx, ny, 'b-', nx, ny, 'bo')\n",
      "\n",
      "plt.ylabel('lg(T(N))')\n",
      "plt.xlabel('lg(N)')\n",
      "\n",
      "for i in range(0, len(x) - 1):\n",
      "    print(\"Ratio %6i: %7.3f, log: %7.3f\" % (x[i+1], y[i+1]/y[i], math.log(y[i+1]/y[i], 2)))\n",
      "\n",
      "plt.show()"
     ],
     "language": "python",
     "metadata": {},
     "outputs": [
      {
       "output_type": "stream",
       "stream": "stdout",
       "text": [
        "Ratio    128:   1.000, log:   0.000\n",
        "Ratio    256:  10.000, log:   3.322\n",
        "Ratio    512:   9.000, log:   3.170\n",
        "Ratio   1024:   6.667, log:   2.737\n",
        "Ratio   2048:   6.917, log:   2.790\n",
        "Ratio   4096:   6.267, log:   2.648\n",
        "Ratio   8192:   6.575, log:   2.717\n",
        "Ratio  16384:   6.486, log:   2.697\n",
        "Ratio  32768:   6.420, log:   2.683\n",
        "Ratio  65536:   6.502, log:   2.701\n"
       ]
      }
     ],
     "prompt_number": 69
    },
    {
     "cell_type": "code",
     "collapsed": false,
     "input": [],
     "language": "python",
     "metadata": {},
     "outputs": [],
     "prompt_number": 19
    },
    {
     "cell_type": "code",
     "collapsed": false,
     "input": [],
     "language": "python",
     "metadata": {},
     "outputs": []
    }
   ],
   "metadata": {}
  }
 ]
}